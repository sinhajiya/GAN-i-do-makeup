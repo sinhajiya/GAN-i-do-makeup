{
 "cells": [
  {
   "cell_type": "code",
   "execution_count": null,
   "id": "beca66e9",
   "metadata": {},
   "outputs": [],
   "source": [
    "!pip install -U gdown\n"
   ]
  },
  {
   "cell_type": "code",
   "execution_count": null,
   "id": "8e49aac9",
   "metadata": {},
   "outputs": [],
   "source": [
    "import gdown\n",
    "import zipfile\n",
    "\n",
    "url = \"https://drive.google.com/file/d/18UlvYDL6UGZ2rs0yaDsSzoUlw8KI5ABY/view\"\n",
    "output = \"dataset.zip\"\n",
    "gdown.download(url, output, quiet=False, fuzzy=True)\n",
    "\n",
    "with zipfile.ZipFile(\"dataset.zip\", 'r') as zip_ref:\n",
    "    members = [f for f in zip_ref.namelist() if f.startswith(\"images/makeup/\") or f.startswith(\"images/non_makeup/\")]\n",
    "    zip_ref.extractall(path=\"data\", members=members)\n",
    "\n"
   ]
  }
 ],
 "metadata": {
  "language_info": {
   "name": "python"
  }
 },
 "nbformat": 4,
 "nbformat_minor": 5
}
