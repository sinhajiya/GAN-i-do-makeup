{
 "cells": [
  {
   "cell_type": "code",
   "execution_count": null,
   "id": "beca66e9",
   "metadata": {},
   "outputs": [],
   "source": [
    "!apt-get update\n",
    "!apt-get install -y unrar\n",
    "!pip install gdown rarfile\n"
   ]
  },
  {
   "cell_type": "code",
   "execution_count": null,
   "id": "8e49aac9",
   "metadata": {},
   "outputs": [],
   "source": [
    "import gdown\n",
    "import zipfile\n",
    "import rarfile\n",
    "\n",
    "url = \"https://drive.google.com/file/d/18UlvYDL6UGZ2rs0yaDsSzoUlw8KI5ABY/view\"\n",
    "output = \"dataset.rar\"\n",
    "gdown.download(url, output, quiet=False, fuzzy=True)\n",
    "\n",
    "# Step 3: Extract specific folders from the RAR\n",
    "with rarfile.RarFile(output) as rf:\n",
    "    members = [f for f in rf.namelist() if f.startswith(\"images/makeup/\") or f.startswith(\"images/non_makeup/\")]\n",
    "    rf.extractall(path=\"data\", members=members)\n",
    "\n",
    "print(\"✅ Extraction complete.\")\n",
    "\n"
   ]
  }
 ],
 "metadata": {
  "language_info": {
   "name": "python"
  }
 },
 "nbformat": 4,
 "nbformat_minor": 5
}
