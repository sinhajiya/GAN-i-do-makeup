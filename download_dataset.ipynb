{
 "cells": [
  {
   "cell_type": "code",
   "execution_count": null,
   "id": "8e49aac9",
   "metadata": {},
   "outputs": [],
   "source": [
    "!apt-get update\n",
    "!apt-get install -y unrar\n",
    "!pip install gdown rarfile\n",
    "\n",
    "import gdown\n",
    "import rarfile\n",
    "\n",
    "url = \"https://drive.google.com/file/d/18UlvYDL6UGZ2rs0yaDsSzoUlw8KI5ABY/view\"\n",
    "output = \"dataset.rar\"\n",
    "gdown.download(url, output, quiet=False, fuzzy=True)\n",
    "\n",
    "with rarfile.RarFile('/content/GAN-i-do-makeup/dataset.rar', 'r') as rf:\n",
    "    for member in rf.infolist():\n",
    "        if member.filename.startswith('all/images/'):\n",
    "            rf.extract(member, '/content/GAN-i-do-makeup/dataset/')\n"
   ]
  }
 ],
 "metadata": {
  "language_info": {
   "name": "python"
  }
 },
 "nbformat": 4,
 "nbformat_minor": 5
}
